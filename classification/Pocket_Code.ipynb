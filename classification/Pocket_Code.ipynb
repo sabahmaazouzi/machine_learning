{
 "cells": [
  {
   "cell_type": "code",
   "execution_count": 1,
   "metadata": {},
   "outputs": [],
   "source": [
    "import pandas as pd\n",
    "import numpy as np\n",
    "import matplotlib.pyplot as plt\n",
    "import random\n",
    "import math"
   ]
  },
  {
   "cell_type": "code",
   "execution_count": 2,
   "metadata": {},
   "outputs": [],
   "source": [
    "data=pd.read_csv(\"classification_data9.csv\")"
   ]
  },
  {
   "cell_type": "code",
   "execution_count": 3,
   "metadata": {},
   "outputs": [],
   "source": [
    "def normalize(x):\n",
    "    X= np.zeros((len(x),2))\n",
    "    for i in range (len(x)):\n",
    "        X[i][0]= (x[i][0] - np.mean(column(x, 0)))/ np.sqrt((np.var(column(x, 0))))\n",
    "        X[i][1]= (x[i][1] - np.mean(column(x, 1)))/ np.sqrt((np.var(column(x, 1))))\n",
    "    return X"
   ]
  },
  {
   "cell_type": "code",
   "execution_count": 4,
   "metadata": {},
   "outputs": [],
   "source": [
    "b = np.array(data['x_2'])\n",
    "a = np.array(data['x_1'])\n",
    "y=np.array(data['y'])\n",
    "x= np.zeros((len(y),2))\n",
    "\n",
    "y_origin=np.zeros(len(y))\n",
    "for i in range(len(y)):\n",
    "       y_origin[i]=y[i]\n",
    "        \n",
    "for i in range (len(y)):  \n",
    "    x [i][0]= a[i]\n",
    "    x[i][1] = b[i]"
   ]
  },
  {
   "cell_type": "code",
   "execution_count": 5,
   "metadata": {},
   "outputs": [],
   "source": [
    "def noise(y):\n",
    "    for i in range(len(y)):\n",
    "        y[i]=y_origin[i]\n",
    "    d = (len(x)*7)//100\n",
    "    for j in range(d):\n",
    "        r = random.randint(0, len(y))\n",
    "        if (y[r]==1):\n",
    "            y[r] = -1 \n",
    "    return y"
   ]
  },
  {
   "cell_type": "code",
   "execution_count": 6,
   "metadata": {},
   "outputs": [],
   "source": [
    "y=noise(y)"
   ]
  },
  {
   "cell_type": "code",
   "execution_count": 7,
   "metadata": {},
   "outputs": [],
   "source": [
    "for i in range(len(y)):\n",
    "    if (y[i]==0):\n",
    "        y[i] = -1\n"
   ]
  },
  {
   "cell_type": "code",
   "execution_count": 8,
   "metadata": {},
   "outputs": [],
   "source": [
    "def split(x,y):\n",
    "    n =len(y)//2\n",
    "    trainx = np.zeros((len(y)-n,2))\n",
    "    #trainx2 = np.zeros(len(y)-n)\n",
    "    trainy = np.zeros(len(y)-n)\n",
    "    testx = np.zeros((n,2))\n",
    "    #testx2 = np.zeros(n)\n",
    "    testy = np.zeros(n)\n",
    "    indtrain =0\n",
    "    indtest =0\n",
    "    for a in range(len(y)):\n",
    "        if (a % 2 !=0 ):\n",
    "            trainx[indtrain][0]=x[a][0]\n",
    "            trainx[indtrain][1]=x[a][1]\n",
    "            \n",
    "            trainy[indtrain]=y[a]\n",
    "            indtrain=indtrain+1\n",
    "\n",
    "        else : \n",
    "            testx[indtest][0]=x[a][0]\n",
    "            testx[indtest][1]=x[a][1]\n",
    "            testy[indtest]=y[a]\n",
    "            indtest=indtest+1\n",
    "    \n",
    "    return trainx,trainy ,testx,  testy"
   ]
  },
  {
   "cell_type": "code",
   "execution_count": 9,
   "metadata": {},
   "outputs": [],
   "source": [
    "trainx,trainy ,testx,  testy = split(x,y)"
   ]
  },
  {
   "cell_type": "code",
   "execution_count": 10,
   "metadata": {},
   "outputs": [],
   "source": [
    "def ls(x,y,w):\n",
    "    cpt=0\n",
    "    for i in range(len(y)):\n",
    "        s=w[0];\n",
    "        for j in range(1,3):\n",
    "            s=s+w[j]*x[i][j-1]\n",
    "        if(s*y[i]<0.0):\n",
    "            cpt=cpt+1\n",
    "    return cpt/len(y)"
   ]
  },
  {
   "cell_type": "code",
   "execution_count": 11,
   "metadata": {},
   "outputs": [],
   "source": [
    "def pocket(x,y):\n",
    "    ws=np.ones(3)\n",
    "    w=np.ones(3)\n",
    "    for i in range(1000):\n",
    "        erreur_old=ls(x,y,ws);\n",
    "        for j in range(len(y)):\n",
    "            s=w[0]\n",
    "            for e in range(1,3):\n",
    "                s=s+w[e]*x[j][e-1]\n",
    "                if(s*y[j]<0):\n",
    "                    w[0]=w[0]+y[j]\n",
    "                    for z in range(1,3):\n",
    "                        w[z]=w[z]+x[j][z-1]*y[j]\n",
    "        erreur=ls(x,y,w);\n",
    "        if(erreur<erreur_old):\n",
    "            for k in range(3):\n",
    "                ws[k]=w[k]\n",
    "    return w"
   ]
  },
  {
   "cell_type": "code",
   "execution_count": 12,
   "metadata": {},
   "outputs": [],
   "source": [
    "def column(matrix, i):\n",
    "    return [row[i] for row in matrix]"
   ]
  },
  {
   "cell_type": "code",
   "execution_count": 13,
   "metadata": {},
   "outputs": [],
   "source": [
    "w=pocket(trainx,trainy)"
   ]
  },
  {
   "cell_type": "code",
   "execution_count": 14,
   "metadata": {},
   "outputs": [
    {
     "data": {
      "text/plain": [
       "0.06666666666666667"
      ]
     },
     "execution_count": 14,
     "metadata": {},
     "output_type": "execute_result"
    }
   ],
   "source": [
    "ls(testx,testy,w)"
   ]
  },
  {
   "cell_type": "code",
   "execution_count": 15,
   "metadata": {},
   "outputs": [],
   "source": [
    "def droite(w,x):\n",
    "    a = (-1/w[2])*(w[0]+w[1]*x)\n",
    "    return a"
   ]
  },
  {
   "cell_type": "code",
   "execution_count": 16,
   "metadata": {},
   "outputs": [
    {
     "data": {
      "image/png": "[encoded data removed]",
      "text/plain": [
       "<Figure size 432x288 with 1 Axes>"
      ]
     },
     "metadata": {
      "needs_background": "light"
     },
     "output_type": "display_data"
    }
   ],
   "source": [
    "\n",
    "l = np.linspace(-2, 2, 100)\n",
    "col ={1 :\"blue\", -1:\"red\"}\n",
    "plt.scatter(column(trainx,0), column(trainx,1),c=trainy)\n",
    "l = np.linspace(0, 10, 100)\n",
    "plt.plot(l,droite(w,l),color='black')\n",
    "plt.show()\n"
   ]
  },
  {
   "cell_type": "code",
   "execution_count": null,
   "metadata": {},
   "outputs": [],
   "source": []
  },
  {
   "cell_type": "code",
   "execution_count": null,
   "metadata": {},
   "outputs": [],
   "source": []
  }
 ],
 "metadata": {
  "kernelspec": {
   "display_name": "Python 3",
   "language": "python",
   "name": "python3"
  },
  "language_info": {
   "codemirror_mode": {
    "name": "ipython",
    "version": 3
   },
   "file_extension": ".py",
   "mimetype": "text/x-python",
   "name": "python",
   "nbconvert_exporter": "python",
   "pygments_lexer": "ipython3",
   "version": "3.7.3"
  }
 },
 "nbformat": 4,
 "nbformat_minor": 2
}

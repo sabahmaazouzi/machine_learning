{
 "cells": [
  {
   "cell_type": "code",
   "execution_count": 44,
   "metadata": {},
   "outputs": [],
   "source": [
    "import pandas as pd\n",
    "import numpy as np\n",
    "from pylab import *\n",
    "import matplotlib.pyplot as plt\n",
    "import matplotlib.pyplot as plt\n",
    "import numpy as np\n",
    "from sklearn.linear_model import LogisticRegression\n",
    "from sklearn.metrics import classification_report, confusion_matrix\n",
    "import random"
   ]
  },
  {
   "cell_type": "code",
   "execution_count": 45,
   "metadata": {},
   "outputs": [],
   "source": [
    "data=pd.read_csv(\"classification_data9.csv\")\n"
   ]
  },
  {
   "cell_type": "code",
   "execution_count": 46,
   "metadata": {},
   "outputs": [],
   "source": [
    "b = np.array(data['x_2'])\n",
    "a = np.array(data['x_1'])\n",
    "y=np.array(data['y'])\n",
    "\n",
    "x= np.zeros((len(y),2))\n",
    "\n",
    "y_origin=np.zeros(len(y))\n",
    "for i in range(len(y)):\n",
    "       y_origin[i]=y[i]\n",
    "\n",
    "for i in range (len(y)):  \n",
    "    x [i][0]= a[i]\n",
    "    x[i][1] = b[i]"
   ]
  },
  {
   "cell_type": "code",
   "execution_count": 47,
   "metadata": {},
   "outputs": [],
   "source": [
    "def noise(y):\n",
    "    for i in range(len(y)):\n",
    "        y[i]=y_origin[i]\n",
    "    d = (len(x)*7)//100\n",
    "    for j in range(d):\n",
    "        r = random.randint(0, len(y))\n",
    "        if (y[r]==0):\n",
    "            y[r] = 1 \n",
    "    return y"
   ]
  },
  {
   "cell_type": "code",
   "execution_count": 48,
   "metadata": {},
   "outputs": [
    {
     "ename": "IndexError",
     "evalue": "index 300 is out of bounds for axis 0 with size 300",
     "output_type": "error",
     "traceback": [
      "\u001b[1;31m---------------------------------------------------------------------------\u001b[0m",
      "\u001b[1;31mIndexError\u001b[0m                                Traceback (most recent call last)",
      "\u001b[1;32m<ipython-input-48-3ef8d9f59c90>\u001b[0m in \u001b[0;36m<module>\u001b[1;34m\u001b[0m\n\u001b[1;32m----> 1\u001b[1;33m \u001b[0my\u001b[0m\u001b[1;33m=\u001b[0m\u001b[0mnoise\u001b[0m\u001b[1;33m(\u001b[0m\u001b[0my\u001b[0m\u001b[1;33m)\u001b[0m\u001b[1;33m\u001b[0m\u001b[1;33m\u001b[0m\u001b[0m\n\u001b[0m",
      "\u001b[1;32m<ipython-input-47-e02bad686183>\u001b[0m in \u001b[0;36mnoise\u001b[1;34m(y)\u001b[0m\n\u001b[0;32m      5\u001b[0m     \u001b[1;32mfor\u001b[0m \u001b[0mj\u001b[0m \u001b[1;32min\u001b[0m \u001b[0mrange\u001b[0m\u001b[1;33m(\u001b[0m\u001b[0md\u001b[0m\u001b[1;33m)\u001b[0m\u001b[1;33m:\u001b[0m\u001b[1;33m\u001b[0m\u001b[1;33m\u001b[0m\u001b[0m\n\u001b[0;32m      6\u001b[0m         \u001b[0mr\u001b[0m \u001b[1;33m=\u001b[0m \u001b[0mrandom\u001b[0m\u001b[1;33m.\u001b[0m\u001b[0mrandint\u001b[0m\u001b[1;33m(\u001b[0m\u001b[1;36m0\u001b[0m\u001b[1;33m,\u001b[0m \u001b[0mlen\u001b[0m\u001b[1;33m(\u001b[0m\u001b[0my\u001b[0m\u001b[1;33m)\u001b[0m\u001b[1;33m)\u001b[0m\u001b[1;33m\u001b[0m\u001b[1;33m\u001b[0m\u001b[0m\n\u001b[1;32m----> 7\u001b[1;33m         \u001b[1;32mif\u001b[0m \u001b[1;33m(\u001b[0m\u001b[0my\u001b[0m\u001b[1;33m[\u001b[0m\u001b[0mr\u001b[0m\u001b[1;33m]\u001b[0m\u001b[1;33m==\u001b[0m\u001b[1;36m0\u001b[0m\u001b[1;33m)\u001b[0m\u001b[1;33m:\u001b[0m\u001b[1;33m\u001b[0m\u001b[1;33m\u001b[0m\u001b[0m\n\u001b[0m\u001b[0;32m      8\u001b[0m             \u001b[0my\u001b[0m\u001b[1;33m[\u001b[0m\u001b[0mr\u001b[0m\u001b[1;33m]\u001b[0m \u001b[1;33m=\u001b[0m \u001b[1;36m1\u001b[0m\u001b[1;33m\u001b[0m\u001b[1;33m\u001b[0m\u001b[0m\n\u001b[0;32m      9\u001b[0m     \u001b[1;32mreturn\u001b[0m \u001b[0my\u001b[0m\u001b[1;33m\u001b[0m\u001b[1;33m\u001b[0m\u001b[0m\n",
      "\u001b[1;31mIndexError\u001b[0m: index 300 is out of bounds for axis 0 with size 300"
     ]
    }
   ],
   "source": [
    "y=noise(y)"
   ]
  },
  {
   "cell_type": "code",
   "execution_count": 50,
   "metadata": {},
   "outputs": [],
   "source": [
    "def split(x,y):\n",
    "    n =(len(y)*2)//3\n",
    "    trainx = np.zeros((n,2))\n",
    "    #trainx2 = np.zeros(len(y)-n)\n",
    "    trainy = np.zeros(n)\n",
    "    testx = np.zeros((len(y)-n,2))\n",
    "    #testx2 = np.zeros(n)\n",
    "    testy = np.zeros(len(y)-n)\n",
    "    indtrain =0\n",
    "    indtest =0\n",
    "    for a in range(len(y)):\n",
    "        if (a % 3 !=0 ):\n",
    "            trainx[indtrain][0]=x[a][0]\n",
    "            trainx[indtrain][1]=x[a][1]\n",
    "            \n",
    "            trainy[indtrain]=y[a]\n",
    "            indtrain=indtrain+1\n",
    "\n",
    "        else : \n",
    "            testx[indtest][0]=x[a][0]\n",
    "            testx[indtest][1]=x[a][1]\n",
    "            testy[indtest]=y[a]\n",
    "            indtest=indtest+1\n",
    "    \n",
    "    return trainx,trainy ,testx,  testy"
   ]
  },
  {
   "cell_type": "code",
   "execution_count": 51,
   "metadata": {},
   "outputs": [],
   "source": [
    "def normalize(x):\n",
    "    X= np.zeros((len(x),2))\n",
    "    for i in range (len(x)):\n",
    "        X[i][0]= (x[i][0] - np.mean(column(x, 0)))/ sqrt((np.var(column(x, 0))))\n",
    "        X[i][1]= (x[i][1] - np.mean(column(x, 1)))/ sqrt((np.var(column(x, 1))))\n",
    "    return X"
   ]
  },
  {
   "cell_type": "code",
   "execution_count": 52,
   "metadata": {},
   "outputs": [],
   "source": [
    "trainx,trainy ,testx,  testy = split(x,y)\n"
   ]
  },
  {
   "cell_type": "code",
   "execution_count": 53,
   "metadata": {},
   "outputs": [],
   "source": [
    "def column(matrix, i):\n",
    "    return [row[i] for row in matrix]"
   ]
  },
  {
   "cell_type": "code",
   "execution_count": 54,
   "metadata": {},
   "outputs": [],
   "source": [
    "def recupere(x):\n",
    "  y=np.zeros(len(x))\n",
    "  for i in range(len(x)):\n",
    "    s=1/(1+exp(-x[i]))\n",
    "    if s>0.5:\n",
    "      y[i]=1\n",
    "    else:\n",
    "      y[i]=0\n",
    "  return y"
   ]
  },
  {
   "cell_type": "code",
   "execution_count": 55,
   "metadata": {},
   "outputs": [],
   "source": [
    "def h( x1 , x2, theta ):\n",
    "  return theta[0]+theta[1]*x1+theta[2]*x2"
   ]
  },
  {
   "cell_type": "code",
   "execution_count": 56,
   "metadata": {},
   "outputs": [],
   "source": [
    "def calculate_prediction(x, theta ):\n",
    "  prediction = np.zeros(len(x))\n",
    "  for i in range(0,len(x)):\n",
    "    prediction[i]= h(x[i][0],x[i][1],theta)\n",
    "  return prediction\n"
   ]
  },
  {
   "cell_type": "code",
   "execution_count": 57,
   "metadata": {},
   "outputs": [],
   "source": [
    "def logisticregression(x,y):\n",
    "    lamb=0.7\n",
    "    pas=0.01\n",
    "    theta=np.zeros(3)\n",
    "    s=np.ones(3)\n",
    "    nor=np.linalg.norm(s)\n",
    "    while(nor>0.01):\n",
    "        p=-calculate_prediction(x,theta)\n",
    "        pred  = 1/(1+ exp(p));\n",
    "        err = pred-y;\n",
    "        s[0]=(sum(err)+lamb*theta[0])/len(x)\n",
    "        s[1]=(np.dot(err,column(x, 0))+lamb*theta[1])/len(x);\n",
    "        s[2]=(np.dot(err,column(x, 1))+lamb*theta[2])/len(x);\n",
    "        theta=theta-pas*s\n",
    "        nor=np.linalg.norm(s)\n",
    "    return theta"
   ]
  },
  {
   "cell_type": "code",
   "execution_count": 58,
   "metadata": {},
   "outputs": [],
   "source": [
    "def logisticregression_without(x,y):\n",
    "    pas=0.1\n",
    "    theta=np.zeros(3)\n",
    "    s=np.ones(3)\n",
    "    nor=np.linalg.norm(s)\n",
    "    while(nor>0.01):\n",
    "        p=-calculate_prediction(x,theta)\n",
    "        pred  = 1/(1+ exp(p));\n",
    "        err = pred-y;\n",
    "        s[0]=(sum(err))/len(x)\n",
    "        s[1]=(np.dot(err,column(x, 0)))/len(x);\n",
    "        s[2]=(np.dot(err,column(x, 1)))/len(x);\n",
    "        theta=theta-pas*s\n",
    "        nor=np.linalg.norm(s)\n",
    "    return theta"
   ]
  },
  {
   "cell_type": "code",
   "execution_count": 59,
   "metadata": {},
   "outputs": [],
   "source": [
    "l=logisticregression(normalize(trainx),trainy)"
   ]
  },
  {
   "cell_type": "code",
   "execution_count": 60,
   "metadata": {},
   "outputs": [],
   "source": [
    "l2=logisticregression_without(normalize(trainx),trainy)"
   ]
  },
  {
   "cell_type": "code",
   "execution_count": 61,
   "metadata": {},
   "outputs": [],
   "source": [
    "def new_y(x,w):\n",
    "  y=np.zeros(len(x))\n",
    "  for i in range(len(x)):\n",
    "    s=1/(1+exp(w[0] -w[1]*x[i]))\n",
    "    if s>0.5:\n",
    "      y[i]=1\n",
    "     \n",
    "    else:\n",
    "      y[i]=0\n",
    "      \n",
    "  return y"
   ]
  },
  {
   "cell_type": "code",
   "execution_count": 62,
   "metadata": {},
   "outputs": [],
   "source": [
    "def ls(x,y,w):\n",
    "    s=0\n",
    "    h=1/(1-exp(-calculate_prediction(x,w)))\n",
    "    for i in range(len(x)):\n",
    "        if(h[i]>=0.5):\n",
    "            h[i]=1\n",
    "        else:\n",
    "            h[i]=0\n",
    "        if(h[i]!=y[i]):\n",
    "            s=s+1\n",
    "    return s/len(x)"
   ]
  },
  {
   "cell_type": "code",
   "execution_count": 63,
   "metadata": {},
   "outputs": [
    {
     "data": {
      "text/plain": [
       "0.03"
      ]
     },
     "execution_count": 63,
     "metadata": {},
     "output_type": "execute_result"
    }
   ],
   "source": [
    "ls(normalize(testx),testy,l)\n"
   ]
  },
  {
   "cell_type": "code",
   "execution_count": 65,
   "metadata": {},
   "outputs": [
    {
     "data": {
      "text/plain": [
       "0.03"
      ]
     },
     "execution_count": 65,
     "metadata": {},
     "output_type": "execute_result"
    }
   ],
   "source": [
    "ls(normalize(testx),testy,l2)"
   ]
  },
  {
   "cell_type": "code",
   "execution_count": 66,
   "metadata": {},
   "outputs": [
    {
     "data": {
      "image/png": "[encoded data removed]",
      "text/plain": [
       "<Figure size 720x504 with 1 Axes>"
      ]
     },
     "metadata": {
      "needs_background": "light"
     },
     "output_type": "display_data"
    }
   ],
   "source": [
    "c = -(l[0])/l[2]\n",
    "m =  -(l[1])/l[2]\n",
    "\n",
    "fig = plt.figure(2, figsize=(10, 7))\n",
    "# Plot the data and the classification with the decision boundary.\n",
    "xmin, xmax = -3, 3\n",
    "ymin, ymax = -3, 3\n",
    "xd = np.array([xmin, xmax])\n",
    "yd = m*xd + c\n",
    "plt.plot(xd, yd, 'k', lw=1, ls='--')\n",
    "\n",
    "\n",
    "col = {1 :\"black\", -1:\"green\"}\n",
    "norr=normalize(trainx)\n",
    "plt.scatter(column(norr,0), column(norr,1) ,c = trainy)\n",
    "plt.xlim(xmin, xmax)\n",
    "plt.ylim(ymin, ymax)\n",
    "plt.ylabel(r'$x_2$')\n",
    "plt.xlabel(r'$x_1$')\n",
    "\n",
    "plt.show()"
   ]
  },
  {
   "cell_type": "code",
   "execution_count": 70,
   "metadata": {},
   "outputs": [],
   "source": [
    "def costfunc(h, y, theta, lam):\n",
    "    theta = theta[1:,:]\n",
    "    m = h.shape[0]\n",
    "    y1 = y.transpose()\n",
    "    h1 = np.log(h)\n",
    "    p1 = np.dot(y1,h1)\n",
    "    h2 = np.log(1-h)\n",
    "    p2 = np.dot((1- y).transpose(), h2)\n",
    "    p3 = sum(lam*(theta**2))/(2*m)\n",
    "    ans = -(p1 +p2)/m + (p3)\n",
    "    return ans"
   ]
  }
 ],
 "metadata": {
  "celltoolbar": "Format de la Cellule Texte Brut",
  "kernelspec": {
   "display_name": "Python 3",
   "language": "python",
   "name": "python3"
  },
  "language_info": {
   "codemirror_mode": {
    "name": "ipython",
    "version": 3
   },
   "file_extension": ".py",
   "mimetype": "text/x-python",
   "name": "python",
   "nbconvert_exporter": "python",
   "pygments_lexer": "ipython3",
   "version": "3.7.3"
  }
 },
 "nbformat": 4,
 "nbformat_minor": 2
}

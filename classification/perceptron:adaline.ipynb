{
 "cells": [
  {
   "cell_type": "code",
   "execution_count": 32,
   "metadata": {},
   "outputs": [],
   "source": [
    "import pandas as pd\n",
    "import numpy as np\n",
    "import matplotlib.pyplot as plt\n",
    "import random\n",
    "import math"
   ]
  },
  {
   "cell_type": "code",
   "execution_count": 33,
   "metadata": {},
   "outputs": [],
   "source": [
    "data=pd.read_csv(\"classification_data9.csv\")\n"
   ]
  },
  {
   "cell_type": "code",
   "execution_count": 34,
   "metadata": {},
   "outputs": [
    {
     "data": {
      "text/html": [
       "<div>\n",
       "<style scoped>\n",
       "    .dataframe tbody tr th:only-of-type {\n",
       "        vertical-align: middle;\n",
       "    }\n",
       "\n",
       "    .dataframe tbody tr th {\n",
       "        vertical-align: top;\n",
       "    }\n",
       "\n",
       "    .dataframe thead th {\n",
       "        text-align: right;\n",
       "    }\n",
       "</style>\n",
       "<table border=\"1\" class=\"dataframe\">\n",
       "  <thead>\n",
       "    <tr style=\"text-align: right;\">\n",
       "      <th></th>\n",
       "      <th>x_1</th>\n",
       "      <th>x_2</th>\n",
       "      <th>y</th>\n",
       "    </tr>\n",
       "  </thead>\n",
       "  <tbody>\n",
       "    <tr>\n",
       "      <td>count</td>\n",
       "      <td>300.000000</td>\n",
       "      <td>300.000000</td>\n",
       "      <td>300.000000</td>\n",
       "    </tr>\n",
       "    <tr>\n",
       "      <td>mean</td>\n",
       "      <td>4.838488</td>\n",
       "      <td>3.961575</td>\n",
       "      <td>0.500000</td>\n",
       "    </tr>\n",
       "    <tr>\n",
       "      <td>std</td>\n",
       "      <td>4.080293</td>\n",
       "      <td>2.760414</td>\n",
       "      <td>0.500835</td>\n",
       "    </tr>\n",
       "    <tr>\n",
       "      <td>min</td>\n",
       "      <td>-1.729020</td>\n",
       "      <td>-1.121061</td>\n",
       "      <td>0.000000</td>\n",
       "    </tr>\n",
       "    <tr>\n",
       "      <td>25%</td>\n",
       "      <td>0.908427</td>\n",
       "      <td>1.342451</td>\n",
       "      <td>0.000000</td>\n",
       "    </tr>\n",
       "    <tr>\n",
       "      <td>50%</td>\n",
       "      <td>4.526135</td>\n",
       "      <td>3.928230</td>\n",
       "      <td>0.500000</td>\n",
       "    </tr>\n",
       "    <tr>\n",
       "      <td>75%</td>\n",
       "      <td>8.847560</td>\n",
       "      <td>6.649956</td>\n",
       "      <td>1.000000</td>\n",
       "    </tr>\n",
       "    <tr>\n",
       "      <td>max</td>\n",
       "      <td>11.484430</td>\n",
       "      <td>9.307988</td>\n",
       "      <td>1.000000</td>\n",
       "    </tr>\n",
       "  </tbody>\n",
       "</table>\n",
       "</div>"
      ],
      "text/plain": [
       "              x_1         x_2           y\n",
       "count  300.000000  300.000000  300.000000\n",
       "mean     4.838488    3.961575    0.500000\n",
       "std      4.080293    2.760414    0.500835\n",
       "min     -1.729020   -1.121061    0.000000\n",
       "25%      0.908427    1.342451    0.000000\n",
       "50%      4.526135    3.928230    0.500000\n",
       "75%      8.847560    6.649956    1.000000\n",
       "max     11.484430    9.307988    1.000000"
      ]
     },
     "execution_count": 34,
     "metadata": {},
     "output_type": "execute_result"
    }
   ],
   "source": [
    "data.describe()"
   ]
  },
  {
   "cell_type": "code",
   "execution_count": 35,
   "metadata": {},
   "outputs": [],
   "source": [
    "b = np.array(data['x_2'])\n",
    "a = np.array(data['x_1'])\n",
    "y=np.array(data['y'])\n",
    "x= np.zeros((len(y),2))\n",
    "\n",
    "\n",
    "for i in range (len(y)):\n",
    "    \n",
    "    x [i][0]= a[i]\n",
    "    x[i][1] = b[i]"
   ]
  },
  {
   "cell_type": "code",
   "execution_count": 36,
   "metadata": {},
   "outputs": [
    {
     "data": {
      "text/plain": [
       "array([-1,  1,  1, -1,  1,  1, -1,  1, -1,  1, -1,  1, -1, -1, -1, -1, -1,\n",
       "       -1, -1,  1,  1,  1,  1,  1, -1, -1, -1,  1,  1, -1,  1, -1, -1, -1,\n",
       "        1,  1, -1,  1,  1, -1, -1, -1, -1,  1, -1,  1, -1, -1, -1, -1,  1,\n",
       "       -1,  1, -1, -1,  1,  1, -1, -1, -1,  1, -1,  1,  1, -1, -1,  1,  1,\n",
       "       -1, -1, -1,  1,  1,  1, -1,  1, -1, -1, -1,  1,  1,  1,  1, -1,  1,\n",
       "       -1,  1, -1,  1, -1,  1,  1,  1, -1,  1,  1, -1,  1,  1, -1,  1,  1,\n",
       "       -1,  1,  1, -1, -1,  1, -1,  1, -1,  1, -1, -1, -1, -1,  1, -1, -1,\n",
       "        1,  1, -1, -1, -1,  1, -1, -1,  1,  1, -1, -1,  1,  1,  1, -1, -1,\n",
       "        1,  1, -1,  1, -1,  1,  1, -1,  1,  1, -1,  1, -1, -1,  1,  1, -1,\n",
       "        1, -1,  1,  1, -1, -1,  1, -1, -1,  1,  1, -1, -1,  1, -1, -1,  1,\n",
       "       -1, -1, -1,  1,  1, -1, -1,  1, -1, -1, -1,  1, -1,  1, -1, -1,  1,\n",
       "        1, -1, -1, -1, -1, -1, -1,  1, -1, -1, -1,  1,  1,  1,  1,  1,  1,\n",
       "        1,  1, -1, -1, -1, -1, -1, -1, -1,  1,  1,  1,  1,  1,  1,  1,  1,\n",
       "        1,  1,  1,  1,  1, -1,  1,  1,  1, -1,  1, -1, -1,  1, -1, -1, -1,\n",
       "       -1, -1, -1,  1, -1, -1,  1, -1,  1, -1,  1, -1, -1,  1,  1, -1,  1,\n",
       "        1,  1, -1, -1,  1,  1, -1, -1,  1,  1,  1,  1, -1,  1,  1, -1,  1,\n",
       "        1,  1,  1, -1,  1, -1, -1, -1, -1,  1,  1, -1,  1,  1, -1,  1, -1,\n",
       "        1,  1, -1,  1, -1, -1,  1,  1,  1,  1, -1])"
      ]
     },
     "execution_count": 36,
     "metadata": {},
     "output_type": "execute_result"
    }
   ],
   "source": [
    "for i in range(len(y)):\n",
    "    if (y[i]==0):\n",
    "        y[i] = -1\n",
    "y\n",
    "# 2 classes "
   ]
  },
  {
   "cell_type": "code",
   "execution_count": 37,
   "metadata": {},
   "outputs": [],
   "source": [
    "def split(x,y):\n",
    "    n =len(y)//4\n",
    "    trainx = np.zeros((len(y)-n,2))\n",
    "    #trainx2 = np.zeros(len(y)-n)\n",
    "    trainy = np.zeros(len(y)-n)\n",
    "    testx = np.zeros((n,2))\n",
    "    #testx2 = np.zeros(n)\n",
    "    testy = np.zeros(n)\n",
    "    indtrain =0\n",
    "    indtest =0\n",
    "    for a in range(len(y)):\n",
    "        if (a % 4 !=0 ):\n",
    "            trainx[indtrain][0]=x[a][0]\n",
    "            trainx[indtrain][1]=x[a][1]\n",
    "            \n",
    "            trainy[indtrain]=y[a]\n",
    "            indtrain=indtrain+1\n",
    "\n",
    "        else : \n",
    "            testx[indtest][0]=x[a][0]\n",
    "            testx[indtest][1]=x[a][1]\n",
    "            testy[indtest]=y[a]\n",
    "            indtest=indtest+1\n",
    "    \n",
    "    return trainx,trainy ,testx,  testy\n",
    "    "
   ]
  },
  {
   "cell_type": "code",
   "execution_count": 38,
   "metadata": {},
   "outputs": [],
   "source": [
    "trainx,trainy ,testx,  testy = split(x,y)"
   ]
  },
  {
   "cell_type": "code",
   "execution_count": 39,
   "metadata": {},
   "outputs": [
    {
     "data": {
      "image/png": "[encoded data removed]",
      "text/plain": [
       "<Figure size 432x288 with 1 Axes>"
      ]
     },
     "metadata": {
      "needs_background": "light"
     },
     "output_type": "display_data"
    }
   ],
   "source": [
    "l = np.linspace(-2, 2, 200)\n",
    "col ={1 :\"blue\", -1:\"red\"}\n",
    "col2 ={1 :\"orange\", -1:\"green\"}\n",
    "plt.scatter(trainx[0][0], trainx[0][1],color=col[trainy[0]], label = \"training data classe 2\")\n",
    "for i in range (1,len(trainy)-1):\n",
    "    plt.scatter(trainx[i][0], trainx[i][1],color=col[trainy[i]])\n",
    "plt.scatter(trainx[len(trainy)-1][0], trainx[len(trainy)-1][1],color=col[trainy[len(trainy)-1]], label = \"training data classe 1\")\n",
    "plt.scatter(testx[0][0], testx[0][1],color=col2[testy[0]], label = \"testing data classe 1\")\n",
    "for i in range (len(testy)-1):\n",
    "    plt.scatter(testx[i][0], testx[i][1],color=col2[testy[i]])\n",
    "plt.scatter(testx[len(testy)-1][0], testx[len(testy)-1][1],color=col2[testy[len(testy)-1]],label = \"testing data classe 2 \")\n",
    "    \n",
    "plt.legend()\n",
    "plt.show()"
   ]
  },
  {
   "cell_type": "code",
   "execution_count": 40,
   "metadata": {},
   "outputs": [],
   "source": [
    "#Is it supervised learning because we don't have any missing data.\n"
   ]
  },
  {
   "cell_type": "code",
   "execution_count": 41,
   "metadata": {},
   "outputs": [],
   "source": [
    "#perceptron \n",
    "def ls(x,w,b,y):\n",
    "    ls =0\n",
    "    for i in range(len(y)):\n",
    "        if (((np.dot(w,x[i])+b)*y[i]) < 0 ) :\n",
    "            ls=ls+1\n",
    "    return ls/len(x)"
   ]
  },
  {
   "cell_type": "code",
   "execution_count": 42,
   "metadata": {},
   "outputs": [
    {
     "data": {
      "text/plain": [
       "array([ 1.,  1., -1.,  1., -1.,  1.,  1., -1.,  1., -1., -1., -1., -1.,\n",
       "       -1.,  1.,  1.,  1.,  1., -1., -1.,  1., -1.,  1., -1., -1.,  1.,\n",
       "        1.,  1.,  1., -1., -1., -1.,  1.,  1., -1., -1., -1.,  1., -1.,\n",
       "       -1., -1.,  1., -1., -1., -1., -1.,  1.,  1., -1.,  1.,  1., -1.,\n",
       "       -1.,  1.,  1., -1.,  1., -1., -1.,  1.,  1.,  1., -1., -1.,  1.,\n",
       "       -1., -1.,  1.,  1., -1.,  1.,  1.,  1.,  1., -1.,  1., -1.,  1.,\n",
       "       -1., -1.,  1.,  1., -1.,  1., -1., -1., -1., -1., -1.,  1., -1.,\n",
       "       -1., -1., -1., -1.,  1., -1., -1.,  1.,  1., -1., -1.,  1., -1.,\n",
       "        1.,  1.,  1., -1.,  1., -1.,  1., -1.,  1.,  1.,  1., -1.,  1.,\n",
       "       -1., -1.,  1., -1.,  1.,  1., -1.,  1., -1.,  1., -1., -1.,  1.,\n",
       "        1., -1.,  1., -1., -1.,  1., -1.,  1., -1.,  1.,  1., -1., -1.,\n",
       "       -1., -1.,  1., -1., -1.,  1.,  1.,  1.,  1.,  1.,  1., -1., -1.,\n",
       "       -1., -1., -1.,  1.,  1.,  1.,  1.,  1.,  1.,  1.,  1.,  1.,  1.,\n",
       "       -1.,  1.,  1., -1.,  1., -1.,  1., -1., -1., -1., -1.,  1., -1.,\n",
       "       -1., -1.,  1., -1., -1., -1.,  1., -1.,  1.,  1., -1., -1.,  1.,\n",
       "       -1., -1.,  1.,  1.,  1., -1.,  1., -1.,  1.,  1.,  1., -1., -1.,\n",
       "       -1., -1.,  1.,  1., -1.,  1., -1.,  1.,  1.,  1., -1., -1., -1.,\n",
       "        1.,  1.,  1., -1.])"
      ]
     },
     "execution_count": 42,
     "metadata": {},
     "output_type": "execute_result"
    }
   ],
   "source": [
    "trainy"
   ]
  },
  {
   "cell_type": "code",
   "execution_count": 43,
   "metadata": {},
   "outputs": [],
   "source": [
    "def perceptron():\n",
    "    b =1\n",
    "    w = np.ones(2)\n",
    "    erreur = ls(trainx,w,b,trainy)\n",
    "    while(erreur  != 0 ):\n",
    "                for i  in range (len(trainx)):\n",
    "                    pr = ((np.dot(w,trainx[i]))+b)*trainy[i]\n",
    "                    \n",
    "                    if (pr < 0 ):\n",
    "                        b  = b  + y[i]\n",
    "                        w[0] = w[0] +  trainy[i]*trainx[i][0]\n",
    "                        w[1] = w[1] + trainy[i]*trainx[i][1]\n",
    "                erreur = ls(trainx,w,b,trainy)\n",
    "                \n",
    "   \n",
    "                \n",
    "    return w , b\n",
    "    "
   ]
  },
  {
   "cell_type": "code",
   "execution_count": 44,
   "metadata": {},
   "outputs": [
    {
     "ename": "KeyboardInterrupt",
     "evalue": "",
     "output_type": "error",
     "traceback": [
      "\u001b[0;31m---------------------------------------------------------------------------\u001b[0m",
      "\u001b[0;31mKeyboardInterrupt\u001b[0m                         Traceback (most recent call last)",
      "\u001b[0;32m<ipython-input-44-ed21019044d2>\u001b[0m in \u001b[0;36m<module>\u001b[0;34m\u001b[0m\n\u001b[0;32m----> 1\u001b[0;31m \u001b[0mwfinal\u001b[0m \u001b[0;34m,\u001b[0m\u001b[0mb\u001b[0m \u001b[0;34m=\u001b[0m \u001b[0mperceptron\u001b[0m\u001b[0;34m(\u001b[0m\u001b[0;34m)\u001b[0m\u001b[0;34m\u001b[0m\u001b[0;34m\u001b[0m\u001b[0m\n\u001b[0m",
      "\u001b[0;32m<ipython-input-43-f9dda43c9f6a>\u001b[0m in \u001b[0;36mperceptron\u001b[0;34m()\u001b[0m\n\u001b[1;32m     10\u001b[0m                         \u001b[0mb\u001b[0m  \u001b[0;34m=\u001b[0m \u001b[0mb\u001b[0m  \u001b[0;34m+\u001b[0m \u001b[0my\u001b[0m\u001b[0;34m[\u001b[0m\u001b[0mi\u001b[0m\u001b[0;34m]\u001b[0m\u001b[0;34m\u001b[0m\u001b[0;34m\u001b[0m\u001b[0m\n\u001b[1;32m     11\u001b[0m                         \u001b[0mw\u001b[0m\u001b[0;34m[\u001b[0m\u001b[0;36m0\u001b[0m\u001b[0;34m]\u001b[0m \u001b[0;34m=\u001b[0m \u001b[0mw\u001b[0m\u001b[0;34m[\u001b[0m\u001b[0;36m0\u001b[0m\u001b[0;34m]\u001b[0m \u001b[0;34m+\u001b[0m  \u001b[0mtrainy\u001b[0m\u001b[0;34m[\u001b[0m\u001b[0mi\u001b[0m\u001b[0;34m]\u001b[0m\u001b[0;34m*\u001b[0m\u001b[0mtrainx\u001b[0m\u001b[0;34m[\u001b[0m\u001b[0mi\u001b[0m\u001b[0;34m]\u001b[0m\u001b[0;34m[\u001b[0m\u001b[0;36m0\u001b[0m\u001b[0;34m]\u001b[0m\u001b[0;34m\u001b[0m\u001b[0;34m\u001b[0m\u001b[0m\n\u001b[0;32m---> 12\u001b[0;31m                         \u001b[0mw\u001b[0m\u001b[0;34m[\u001b[0m\u001b[0;36m1\u001b[0m\u001b[0;34m]\u001b[0m \u001b[0;34m=\u001b[0m \u001b[0mw\u001b[0m\u001b[0;34m[\u001b[0m\u001b[0;36m1\u001b[0m\u001b[0;34m]\u001b[0m \u001b[0;34m+\u001b[0m \u001b[0mtrainy\u001b[0m\u001b[0;34m[\u001b[0m\u001b[0mi\u001b[0m\u001b[0;34m]\u001b[0m\u001b[0;34m*\u001b[0m\u001b[0mtrainx\u001b[0m\u001b[0;34m[\u001b[0m\u001b[0mi\u001b[0m\u001b[0;34m]\u001b[0m\u001b[0;34m[\u001b[0m\u001b[0;36m1\u001b[0m\u001b[0;34m]\u001b[0m\u001b[0;34m\u001b[0m\u001b[0;34m\u001b[0m\u001b[0m\n\u001b[0m\u001b[1;32m     13\u001b[0m                 \u001b[0merreur\u001b[0m \u001b[0;34m=\u001b[0m \u001b[0mls\u001b[0m\u001b[0;34m(\u001b[0m\u001b[0mtrainx\u001b[0m\u001b[0;34m,\u001b[0m\u001b[0mw\u001b[0m\u001b[0;34m,\u001b[0m\u001b[0mb\u001b[0m\u001b[0;34m,\u001b[0m\u001b[0mtrainy\u001b[0m\u001b[0;34m)\u001b[0m\u001b[0;34m\u001b[0m\u001b[0;34m\u001b[0m\u001b[0m\n\u001b[1;32m     14\u001b[0m \u001b[0;34m\u001b[0m\u001b[0m\n",
      "\u001b[0;31mKeyboardInterrupt\u001b[0m: "
     ]
    }
   ],
   "source": [
    "wfinal ,b = perceptron()\n"
   ]
  },
  {
   "cell_type": "code",
   "execution_count": 280,
   "metadata": {},
   "outputs": [
    {
     "data": {
      "text/plain": [
       "array([ 3.6232086 , -0.66522638])"
      ]
     },
     "execution_count": 280,
     "metadata": {},
     "output_type": "execute_result"
    }
   ],
   "source": [
    "wfinal \n"
   ]
  },
  {
   "cell_type": "code",
   "execution_count": null,
   "metadata": {},
   "outputs": [],
   "source": [
    "b"
   ]
  },
  {
   "cell_type": "code",
   "execution_count": 116,
   "metadata": {},
   "outputs": [],
   "source": [
    "w=[1,0]\n",
    "for i in range(len(trainy)):\n",
    "        if ((np.dot(w,trainx[i])*trainy[i])< = 0 ) :\n",
    "            print(trainx[i])"
   ]
  },
  {
   "cell_type": "code",
   "execution_count": 45,
   "metadata": {},
   "outputs": [],
   "source": [
    "def droite(b,w,x):\n",
    "    a = (-1/w[1])*(b+w[0]*x)\n",
    "    return a"
   ]
  },
  {
   "cell_type": "code",
   "execution_count": 150,
   "metadata": {},
   "outputs": [],
   "source": [
    "w =[0,1]\n",
    "b= 1"
   ]
  },
  {
   "cell_type": "code",
   "execution_count": 152,
   "metadata": {},
   "outputs": [
    {
     "name": "stdout",
     "output_type": "stream",
     "text": [
      "-1.0\n",
      "0\n"
     ]
    }
   ],
   "source": [
    "f =(-1/w[1])*(b+w[0]*x[0][0])\n",
    "print(f)\n",
    "print(y[0])"
   ]
  },
  {
   "cell_type": "code",
   "execution_count": 281,
   "metadata": {},
   "outputs": [
    {
     "name": "stdout",
     "output_type": "stream",
     "text": [
      "0.0\n"
     ]
    },
    {
     "data": {
      "image/png": "[encoded data removed]",
      "text/plain": [
       "<Figure size 432x288 with 1 Axes>"
      ]
     },
     "metadata": {
      "needs_background": "light"
     },
     "output_type": "display_data"
    }
   ],
   "source": [
    "l = np.linspace(-2, 2, 200)\n",
    "col ={1 :\"blue\", -1:\"red\"}\n",
    "col2 ={1 :\"orange\", -1:\"green\"}\n",
    "for i in range (len(trainy)):\n",
    "    plt.scatter(trainx[i][0], trainx[i][1],color=col[trainy[i]])\n",
    "l = np.linspace(-2, 12, 200)\n",
    "plt.plot(l,droite(b,wfinal,l),color='blue')\n",
    "print(ls(trainx,wfinal,b,trainy))\n",
    "plt.show()"
   ]
  },
  {
   "cell_type": "code",
   "execution_count": 46,
   "metadata": {},
   "outputs": [],
   "source": [
    "#6  \n",
    "def noise(y):\n",
    "    d = (len(x)*7)//100\n",
    "    for j in range(d):\n",
    "        r = random.randint(0, len(y))\n",
    "        if (y[r]==1):\n",
    "            y[r] = -1 \n",
    "    return y\n",
    "    \n",
    "    "
   ]
  },
  {
   "cell_type": "code",
   "execution_count": 47,
   "metadata": {},
   "outputs": [],
   "source": [
    "y = noise(y)"
   ]
  },
  {
   "cell_type": "code",
   "execution_count": 48,
   "metadata": {},
   "outputs": [],
   "source": [
    "trainx,trainy ,testx,  testy = split(x,y)"
   ]
  },
  {
   "cell_type": "code",
   "execution_count": 49,
   "metadata": {},
   "outputs": [
    {
     "data": {
      "image/png": "[encoded data removed]",
      "text/plain": [
       "<Figure size 432x288 with 1 Axes>"
      ]
     },
     "metadata": {
      "needs_background": "light"
     },
     "output_type": "display_data"
    }
   ],
   "source": [
    "l = np.linspace(-2, 2, 200)\n",
    "col ={1 :\"blue\", -1:\"red\"}\n",
    "\n",
    "for i in range (len(y)):\n",
    "    plt.scatter(x[i][0], x[i][1],color=col[y[i]])\n",
    "#l = np.linspace(-2, 12, 200)\n",
    "#plt.plot(l,droite(b,wfinal,l),color='blue')\n",
    "#print(ls(x,wfinal,b,trainy))\n",
    "plt.show()"
   ]
  },
  {
   "cell_type": "code",
   "execution_count": 50,
   "metadata": {},
   "outputs": [],
   "source": [
    "def sign(x):\n",
    "    if (x <0):\n",
    "        return -1 \n",
    "    else:\n",
    "        return 1 "
   ]
  },
  {
   "cell_type": "code",
   "execution_count": 51,
   "metadata": {},
   "outputs": [],
   "source": [
    "def adaline():\n",
    "    b=0 \n",
    "    w= [1,1]\n",
    "    for i in range(3000):\n",
    "        for j in range(len(trainx)):\n",
    "            signe = sign(np.dot(w,trainx[j])+b)\n",
    "            e = trainy[j]-signe\n",
    "            if (e != 0):\n",
    "                b = b +2*e\n",
    "                w[0]=w[0]+2*e*trainx[j][0]\n",
    "                w[1]=w[1]+2*e*trainx[j][1]\n",
    "    return w , b \n",
    "            "
   ]
  },
  {
   "cell_type": "code",
   "execution_count": 52,
   "metadata": {},
   "outputs": [],
   "source": [
    "w , b = adaline()"
   ]
  },
  {
   "cell_type": "code",
   "execution_count": 53,
   "metadata": {},
   "outputs": [
    {
     "data": {
      "image/png": "[encoded data removed]",
      "text/plain": [
       "<Figure size 432x288 with 1 Axes>"
      ]
     },
     "metadata": {
      "needs_background": "light"
     },
     "output_type": "display_data"
    }
   ],
   "source": [
    "l = np.linspace(-2, 12, 200)\n",
    "col ={1 :\"blue\", -1:\"red\"}\n",
    "col2 ={1 :\"orange\", -1:\"green\"}\n",
    "plt.scatter(trainx[0][0], trainx[0][1],color=col[trainy[0]], label = \"training data classe 2\")\n",
    "for i in range (1,len(trainy)-1):\n",
    "    plt.scatter(trainx[i][0], trainx[i][1],color=col[trainy[i]])\n",
    "plt.scatter(trainx[len(trainy)-1][0], trainx[len(trainy)-1][1],color=col[trainy[len(trainy)-1]], label = \"training data classe 1\")\n",
    "plt.scatter(testx[0][0], testx[0][1],color=col2[testy[0]], label = \"testing data classe 1\")\n",
    "for i in range (len(testy)-1):\n",
    "    plt.scatter(testx[i][0], testx[i][1],color=col2[testy[i]])\n",
    "plt.scatter(testx[len(testy)-1][0], testx[len(testy)-1][1],color=col2[testy[len(testy)-1]],label = \"testing data classe 2 \")\n",
    "plt.plot(l,droite(b,w,l),color='blue')\n",
    "#print(ls(x,wfinal,b,trainy))\n",
    "plt.legend()\n",
    "plt.show()"
   ]
  },
  {
   "cell_type": "code",
   "execution_count": null,
   "metadata": {},
   "outputs": [],
   "source": []
  }
 ],
 "metadata": {
  "kernelspec": {
   "display_name": "Python 3",
   "language": "python",
   "name": "python3"
  },
  "language_info": {
   "codemirror_mode": {
    "name": "ipython",
    "version": 3
   },
   "file_extension": ".py",
   "mimetype": "text/x-python",
   "name": "python",
   "nbconvert_exporter": "python",
   "pygments_lexer": "ipython3",
   "version": "3.7.4"
  }
 },
 "nbformat": 4,
 "nbformat_minor": 2
}

{
 "cells": [
  {
   "cell_type": "code",
   "execution_count": 44,
   "metadata": {},
   "outputs": [],
   "source": [
    "import pandas as pd\n",
    "import numpy as np\n",
    "from pylab import *\n",
    "import matplotlib.pyplot as plt"
   ]
  },
  {
   "cell_type": "code",
   "execution_count": 45,
   "metadata": {},
   "outputs": [],
   "source": [
    "data=pd.read_csv(\"data10.csv\")"
   ]
  },
  {
   "cell_type": "code",
   "execution_count": 46,
   "metadata": {},
   "outputs": [],
   "source": [
    "x=np.array(data['x'])\n",
    "y=np.array(data['y'])\n",
    "\n"
   ]
  },
  {
   "cell_type": "code",
   "execution_count": 47,
   "metadata": {},
   "outputs": [],
   "source": [
    "def split(x,y):\n",
    "    n =240//4\n",
    "    trainx = np.zeros(240-n)\n",
    "    trainy = np.zeros(240-n)\n",
    "    testx = np.zeros(n)\n",
    "    testy = np.zeros(n)\n",
    "    \n",
    "    indtrain =0\n",
    "    \n",
    "    indtest =0\n",
    "    for a in range(240):\n",
    "        if (a % 4 !=0 ):\n",
    "            trainx[indtrain]=x[a]\n",
    "            trainy[indtrain]=y[a]\n",
    "            indtrain=indtrain+1\n",
    "\n",
    "        else : \n",
    "            testx[indtest]=x[a]\n",
    "            testy[indtest]=y[a]\n",
    "            indtest=indtest+1\n",
    "    \n",
    "    return trainx,trainy ,testx , testy\n",
    "    "
   ]
  },
  {
   "cell_type": "code",
   "execution_count": 48,
   "metadata": {},
   "outputs": [],
   "source": [
    "trainx,trainy,  testx,testy = split(x,y)"
   ]
  },
  {
   "cell_type": "code",
   "execution_count": 49,
   "metadata": {},
   "outputs": [],
   "source": [
    "def normalize(x):\n",
    "  X = np.zeros(len(x))\n",
    "  for i in range (len(x)):\n",
    "    X[i] = (x[i] - np.mean(trainy))/ sqrt((np.var(trainy)))\n",
    "  return X\n",
    "\n",
    "def normalize_x(x):\n",
    "  X = np.zeros(len(x))\n",
    "  for i in range (len(x)):\n",
    "    X[i] = (x[i] - np.mean(trainx))/ sqrt((np.var(x)))\n",
    "  return X"
   ]
  },
  {
   "cell_type": "code",
   "execution_count": 50,
   "metadata": {},
   "outputs": [],
   "source": [
    "def recupere(x):\n",
    "  y=np.zeros(len(x))\n",
    "  for i in range(len(x)):\n",
    "    s=1/(1+exp(-x[i]))\n",
    "    if s>0.5:\n",
    "      y[i]=1\n",
    "    else:\n",
    "      y[i]=0\n",
    "  return y"
   ]
  },
  {
   "cell_type": "code",
   "execution_count": 51,
   "metadata": {},
   "outputs": [],
   "source": [
    "def h( x ,  theta ):\n",
    "  return theta[0]+theta[1]*x "
   ]
  },
  {
   "cell_type": "code",
   "execution_count": 52,
   "metadata": {},
   "outputs": [],
   "source": [
    "def calculate_prediction(x, theta ):\n",
    "  prediction = np.zeros(len(x))\n",
    "  for i in range(0,len(x)):\n",
    "    prediction[i]= h(x[i],theta)\n",
    "  return prediction\n"
   ]
  },
  {
   "cell_type": "code",
   "execution_count": 54,
   "metadata": {},
   "outputs": [],
   "source": [
    "def logisticregression(x,y):\n",
    "  pas=0.01\n",
    "  theta=np.zeros(2)\n",
    "  s=np.ones(2)\n",
    "  nor=np.linalg.norm(s)\n",
    "  while(nor>0.01):\n",
    "    p=-calculate_prediction(x,theta)\n",
    "    pred  = 1/(1+ exp(p));\n",
    "    err = pred-y;\n",
    "    s[0]=sum(err)/len(x)\n",
    "    s[1]=(np.dot(err,x))/len(x);\n",
    "    theta=theta-pas*s\n",
    "    nor=np.linalg.norm(s)\n",
    "    #print(nor)\n",
    "  return theta"
   ]
  },
  {
   "cell_type": "code",
   "execution_count": 55,
   "metadata": {},
   "outputs": [
    {
     "name": "stderr",
     "output_type": "stream",
     "text": [
      "/opt/anaconda3/lib/python3.7/site-packages/ipykernel_launcher.py:4: RuntimeWarning: overflow encountered in exp\n",
      "  after removing the cwd from sys.path.\n"
     ]
    },
    {
     "data": {
      "text/plain": [
       "array([-0.14825577,  1.88315996])"
      ]
     },
     "execution_count": 55,
     "metadata": {},
     "output_type": "execute_result"
    }
   ],
   "source": [
    "yy=recupere(trainy)\n",
    "ll =logisticregression(normalize_x(trainx),yy)\n",
    "\n",
    "\n",
    "\n",
    "ll\n"
   ]
  },
  {
   "cell_type": "code",
   "execution_count": 27,
   "metadata": {},
   "outputs": [
    {
     "data": {
      "text/plain": [
       "array([-0.14825577,  1.88315996])"
      ]
     },
     "execution_count": 27,
     "metadata": {},
     "output_type": "execute_result"
    }
   ],
   "source": [
    "ll"
   ]
  },
  {
   "cell_type": "code",
   "execution_count": 56,
   "metadata": {},
   "outputs": [],
   "source": [
    "def new_y(x,w):\n",
    "  y=np.zeros(len(x))\n",
    "  for i in range(len(x)):\n",
    "    s=1/(1+exp(w[0] -w[1]*x[i]))\n",
    "    if s>0.5:\n",
    "      y[i]=1\n",
    "     \n",
    "    else:\n",
    "      y[i]=0\n",
    "      \n",
    "  return y"
   ]
  },
  {
   "cell_type": "code",
   "execution_count": 57,
   "metadata": {},
   "outputs": [
    {
     "name": "stderr",
     "output_type": "stream",
     "text": [
      "/opt/anaconda3/lib/python3.7/site-packages/ipykernel_launcher.py:4: RuntimeWarning: overflow encountered in exp\n",
      "  after removing the cwd from sys.path.\n"
     ]
    },
    {
     "data": {
      "image/png": "[encoded data removed]",
      "text/plain": [
       "<Figure size 1296x576 with 1 Axes>"
      ]
     },
     "metadata": {
      "needs_background": "light"
     },
     "output_type": "display_data"
    }
   ],
   "source": [
    "plt.figure(figsize=(18,8))\n",
    "plt.scatter(normalize_x(trainx),recupere(trainy),color='blue',label = \"training data\")\n",
    "plt.scatter(normalize_x(testx),recupere(testy),color='red',label = \"testing data\")\n",
    "\n",
    "l = np.linspace(-2, 1.5, 200)\n",
    "\n",
    "\n",
    "yl= 1/(1+exp(-calculate_prediction(l, ll)))\n",
    "\n",
    "plt.legend()\n",
    "\n",
    "\n",
    "plt.plot(l,yl,color='green',lw=1, label = \"sigmoid function \")\n",
    "\n",
    "plt.legend()\n",
    "\n",
    "\n",
    "plt.show()\n",
    "\n",
    "\n"
   ]
  },
  {
   "cell_type": "code",
   "execution_count": null,
   "metadata": {},
   "outputs": [],
   "source": []
  }
 ],
 "metadata": {
  "celltoolbar": "Format de la Cellule Texte Brut",
  "kernelspec": {
   "display_name": "Python 3",
   "language": "python",
   "name": "python3"
  },
  "language_info": {
   "codemirror_mode": {
    "name": "ipython",
    "version": 3
   },
   "file_extension": ".py",
   "mimetype": "text/x-python",
   "name": "python",
   "nbconvert_exporter": "python",
   "pygments_lexer": "ipython3",
   "version": "3.7.4"
  }
 },
 "nbformat": 4,
 "nbformat_minor": 2
}

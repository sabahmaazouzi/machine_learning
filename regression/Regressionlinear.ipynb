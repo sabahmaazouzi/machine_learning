{
 "cells": [
  {
   "cell_type": "code",
   "execution_count": 1,
   "metadata": {},
   "outputs": [],
   "source": [
    "def split(x,y):\n",
    "    n =(len(x)*3)//4\n",
    "    trainx = np.zeros(n)\n",
    "    trainy = np.zeros(n)\n",
    "    testx = np.zeros(len(x)-n)\n",
    "    testy = np.zeros(len(x)-n)\n",
    "    \n",
    "    indtrain =0\n",
    "    \n",
    "    indtest =0\n",
    "    for a in range(len(x)):\n",
    "        if (a % 4 !=0 ):\n",
    "            trainx[indtrain]=x[a]\n",
    "            trainy[indtrain]=y[a]\n",
    "            indtrain=indtrain+1\n",
    "\n",
    "        else : \n",
    "            testx[indtest]=x[a]\n",
    "            testy[indtest]=y[a]\n",
    "            indtest=indtest+1\n",
    "    \n",
    "    return trainx,trainy ,testx , testy"
   ]
  },
  {
   "cell_type": "code",
   "execution_count": 2,
   "metadata": {},
   "outputs": [],
   "source": [
    "import pandas as pd\n",
    "import numpy as np\n",
    "import matplotlib.pyplot as plt\n",
    "import math\n",
    "\n",
    "#it is a supervised learning \n",
    "data=pd.read_csv(\"dataset2.csv\")\n",
    "x=np.array(data['ENGINESIZE']).reshape(-1, 1)\n",
    "y=np.array(data['CO2EMISSIONS']).reshape(-1, 1)\n",
    "trainx,trainy,testx,testy=split(x,y)\n"
   ]
  },
  {
   "cell_type": "code",
   "execution_count": 3,
   "metadata": {},
   "outputs": [
    {
     "name": "stdout",
     "output_type": "stream",
     "text": [
      "3.346298031865042\n"
     ]
    }
   ],
   "source": [
    "moyenne = np.mean(x)\n",
    "print(moyenne)"
   ]
  },
  {
   "cell_type": "code",
   "execution_count": 4,
   "metadata": {},
   "outputs": [],
   "source": [
    "def my_median(sample):\n",
    "  n = len(sample)\n",
    "  index = n // 2\n",
    "  # Sample with an odd number of observations\n",
    "  if n % 2:\n",
    "    return sorted(sample)[index]\n",
    "  # Sample with an even number of observations\n",
    "  return sum(sorted(sample)[index - 1:index + 1]) / 2\n"
   ]
  },
  {
   "cell_type": "code",
   "execution_count": 5,
   "metadata": {},
   "outputs": [],
   "source": [
    "def normalize(x):\n",
    "  X = np.zeros(len(x))\n",
    "  for i in range (len(x)):\n",
    "    X[i] = (x[i] - np.mean(x))/ np.sqrt((np.var(x)))\n",
    "  return X\n"
   ]
  },
  {
   "cell_type": "code",
   "execution_count": 30,
   "metadata": {},
   "outputs": [],
   "source": [
    "def h( x ,  theta ):\n",
    "  return theta[0]+theta[1]*x "
   ]
  },
  {
   "cell_type": "code",
   "execution_count": 31,
   "metadata": {},
   "outputs": [],
   "source": [
    "def calculate_prediction(x, theta ):\n",
    "  prediction = np.zeros(len(x))\n",
    "  for i in range(0,len(x)):\n",
    "    prediction[i]= h(x[i],theta)\n",
    "  return prediction\n"
   ]
  },
  {
   "cell_type": "code",
   "execution_count": 7,
   "metadata": {},
   "outputs": [],
   "source": [
    "def puissance(x,degre):\n",
    "  l =len(x)\n",
    "  res = np.zeros(l)\n",
    "  for i  in range(0, l):\n",
    "    res[i]=x[i]**degre\n",
    "  return res"
   ]
  },
  {
   "cell_type": "code",
   "execution_count": 8,
   "metadata": {},
   "outputs": [],
   "source": [
    "def f(x, theta , y):\n",
    "  l =len(x)\n",
    "  res = np.zeros(l)\n",
    "  predictions = calculate_prediction(x, theta);\n",
    "  diff = predictions-y\n",
    "  ls = puissance(diff,2)\n",
    "  res = (1.0/l) *np.sum(ls)\n",
    "  return res"
   ]
  },
  {
   "cell_type": "code",
   "execution_count": 9,
   "metadata": {},
   "outputs": [],
   "source": [
    "def armijo(x,y,d,theta):\n",
    "    alpha = 1\n",
    "    eps =0.0001\n",
    "    while(f(x,theta+np.multiply(d,alpha),y) - f(x,theta,y) > -1.0*alpha*eps*np.sum(puissance(d,2))):\n",
    "        alpha = alpha/2\n",
    "        thetha=theta+np.multiply(d,alpha)\n",
    "    return alpha;"
   ]
  },
  {
   "cell_type": "code",
   "execution_count": 10,
   "metadata": {},
   "outputs": [],
   "source": []
  },
  {
   "cell_type": "code",
   "execution_count": 11,
   "metadata": {},
   "outputs": [],
   "source": [
    "def gradient_descent(x,y,alpha):\n",
    "    theta = [0] *2\n",
    "    vectnorm=[0]*2\n",
    "    predictions = calculate_prediction(x, theta)\n",
    "    diff = predictions-y\n",
    "    errors_x1 = diff\n",
    "    errors_x2 = diff*x\n",
    "    vectnorm[0]=(1.0 / len(x))*np.sum(errors_x1)\n",
    "    vectnorm[1]=(1.0 / len(x))*np.sum(errors_x2)\n",
    "    d=np.linalg.norm(vectnorm)\n",
    "    while (d>0.001):\n",
    "        predictions = calculate_prediction(x, theta)\n",
    "        diff = predictions-y\n",
    "        errors_x1 = diff\n",
    "        errors_x2 = diff*x\n",
    "        theta[0] = theta[0] - alpha * (1.0 / len(x)) * np.sum(errors_x1)\n",
    "        theta[1] = theta[1] - alpha * (1.0 / len(x)) * np.sum(errors_x2)\n",
    "        vectnorm[0]=(1.0 / len(x))*np.sum(errors_x1)\n",
    "        vectnorm[1]=(1.0 / len(x))*np.sum(errors_x2)\n",
    "        d=np.linalg.norm(vectnorm)\n",
    "    return theta;"
   ]
  },
  {
   "cell_type": "code",
   "execution_count": 12,
   "metadata": {},
   "outputs": [],
   "source": [
    "def gradient_descent_armijo(x,y):\n",
    "    theta =[0.5] *2\n",
    "    d=[0] *2\n",
    "    predictions = calculate_prediction(x, theta);\n",
    "    diff = predictions-y\n",
    "    errors_x1 = diff\n",
    "    errors_x2 = diff*x\n",
    "    d[0]=-(1.0 / len(x))*np.sum(errors_x1)\n",
    "    d[1]=-(1.0 / len(x))*np.sum(errors_x2)\n",
    "    nor=np.linalg.norm(d)\n",
    "    #k=f(x,theta,y)\n",
    "    pas=1.0\n",
    "    while (nor>0.001):\n",
    "        predictions = calculate_prediction(x, theta)\n",
    "        diff = predictions-y\n",
    "        errors_x1 = diff;\n",
    "        errors_x2 = diff*x\n",
    "        pas=armijo(x,y,d,theta)       \n",
    "        theta[0] = theta[0] - pas * (1.0 / len(x)) * np.sum(errors_x1)\n",
    "        theta[1] = theta[1] - pas * (1.0 / len(x)) * np.sum(errors_x2)\n",
    "        d[0]=-(1.0 / len(x))*np.sum(errors_x1)\n",
    "        d[1]=-(1.0 / len(x))*np.sum(errors_x2)\n",
    "        nor=np.linalg.norm(d)\n",
    "    return theta;"
   ]
  },
  {
   "cell_type": "code",
   "execution_count": 13,
   "metadata": {},
   "outputs": [],
   "source": [
    "theta1=gradient_descent(normalize(trainx),normalize(trainy),0.01)"
   ]
  },
  {
   "cell_type": "code",
   "execution_count": 14,
   "metadata": {},
   "outputs": [
    {
     "data": {
      "text/plain": [
       "0.21897378033388074"
      ]
     },
     "execution_count": 14,
     "metadata": {},
     "output_type": "execute_result"
    }
   ],
   "source": [
    "f(normalize(trainx),theta1,normalize(trainy))"
   ]
  },
  {
   "cell_type": "code",
   "execution_count": 15,
   "metadata": {},
   "outputs": [],
   "source": [
    "theta2=gradient_descent(normalize(trainx),normalize(trainy),0.02)"
   ]
  },
  {
   "cell_type": "code",
   "execution_count": 16,
   "metadata": {},
   "outputs": [
    {
     "data": {
      "text/plain": [
       "0.21897377222866815"
      ]
     },
     "execution_count": 16,
     "metadata": {},
     "output_type": "execute_result"
    }
   ],
   "source": [
    "f(normalize(trainx),theta2,normalize(trainy))"
   ]
  },
  {
   "cell_type": "code",
   "execution_count": 17,
   "metadata": {},
   "outputs": [],
   "source": [
    "theta3=gradient_descent(normalize(trainx),normalize(trainy),0.03)"
   ]
  },
  {
   "cell_type": "code",
   "execution_count": 18,
   "metadata": {},
   "outputs": [
    {
     "data": {
      "text/plain": [
       "0.21897374489903862"
      ]
     },
     "execution_count": 18,
     "metadata": {},
     "output_type": "execute_result"
    }
   ],
   "source": [
    "f(normalize(trainx),theta3,normalize(trainy))"
   ]
  },
  {
   "cell_type": "code",
   "execution_count": 19,
   "metadata": {},
   "outputs": [],
   "source": [
    "theta4=gradient_descent_armijo(normalize(trainx),normalize(trainy))"
   ]
  },
  {
   "cell_type": "code",
   "execution_count": 20,
   "metadata": {},
   "outputs": [
    {
     "data": {
      "text/plain": [
       "0.21897281934218854"
      ]
     },
     "execution_count": 20,
     "metadata": {},
     "output_type": "execute_result"
    }
   ],
   "source": [
    "f(normalize(trainx),theta4,normalize(trainy))"
   ]
  },
  {
   "cell_type": "code",
   "execution_count": 21,
   "metadata": {},
   "outputs": [
    {
     "data": {
      "text/plain": [
       "[<matplotlib.lines.Line2D at 0x7fe74e54a690>]"
      ]
     },
     "execution_count": 21,
     "metadata": {},
     "output_type": "execute_result"
    },
    {
     "data": {
      "image/png": "[encoded data removed]",
      "text/plain": [
       "<Figure size 432x288 with 1 Axes>"
      ]
     },
     "metadata": {
      "needs_background": "light"
     },
     "output_type": "display_data"
    }
   ],
   "source": [
    "#scatter theta1 pour pas=0.01\n",
    "plt.scatter(normalize(trainx),normalize(trainy),color='wheat',s=5,label=\"train\")\n",
    "plt.scatter(normalize(testx),normalize(testy),color='salmon',s=5,label=\"test\")\n",
    "plt.legend()\n",
    "xx=[1.8,0.10,2.8,-1.8]\n",
    "plt.plot(xx, calculate_prediction(xx,theta1), color='black', lw=1)"
   ]
  },
  {
   "cell_type": "code",
   "execution_count": 22,
   "metadata": {},
   "outputs": [
    {
     "data": {
      "text/plain": [
       "[<matplotlib.lines.Line2D at 0x7fe74e68fbd0>]"
      ]
     },
     "execution_count": 22,
     "metadata": {},
     "output_type": "execute_result"
    },
    {
     "data": {
      "image/png": "[encoded data removed]",
      "text/plain": [
       "<Figure size 432x288 with 1 Axes>"
      ]
     },
     "metadata": {
      "needs_background": "light"
     },
     "output_type": "display_data"
    }
   ],
   "source": [
    "#scatter 2 pour pas=0.02\n",
    "plt.scatter(normalize(trainx),normalize(trainy),color='wheat',s=5,label=\"train\")\n",
    "plt.scatter(normalize(testx),normalize(testy),color='salmon',s=5,label=\"test\")\n",
    "plt.legend()\n",
    "plt.plot(xx, calculate_prediction(xx,theta2),  color='green', lw=1)"
   ]
  },
  {
   "cell_type": "code",
   "execution_count": 23,
   "metadata": {},
   "outputs": [
    {
     "data": {
      "text/plain": [
       "[<matplotlib.lines.Line2D at 0x7fe74e776a50>]"
      ]
     },
     "execution_count": 23,
     "metadata": {},
     "output_type": "execute_result"
    },
    {
     "data": {
      "image/png": "[encoded data removed]",
      "text/plain": [
       "<Figure size 432x288 with 1 Axes>"
      ]
     },
     "metadata": {
      "needs_background": "light"
     },
     "output_type": "display_data"
    }
   ],
   "source": [
    "#scatter theta3 pour pas=0.03\n",
    "plt.scatter(normalize(trainx),normalize(trainy),color='wheat',s=5,label=\"train\")\n",
    "plt.scatter(normalize(testx),normalize(testy),color='salmon',s=5,label=\"test\")\n",
    "plt.legend()\n",
    "plt.plot(xx, calculate_prediction(xx,theta3),  color='orange', lw=1)"
   ]
  },
  {
   "cell_type": "code",
   "execution_count": 24,
   "metadata": {},
   "outputs": [
    {
     "data": {
      "text/plain": [
       "[<matplotlib.lines.Line2D at 0x7fe74e858c50>]"
      ]
     },
     "execution_count": 24,
     "metadata": {},
     "output_type": "execute_result"
    },
    {
     "data": {
      "image/png": "[encoded data removed]",
      "text/plain": [
       "<Figure size 432x288 with 1 Axes>"
      ]
     },
     "metadata": {
      "needs_background": "light"
     },
     "output_type": "display_data"
    }
   ],
   "source": [
    "#scatter theta4 pour pas d'armijo\n",
    "plt.scatter(normalize(trainx),normalize(trainy),color='wheat',s=5,label=\"train\")\n",
    "plt.scatter(normalize(testx),normalize(testy),color='salmon',s=5,label=\"test\")\n",
    "plt.legend()\n",
    "plt.plot(xx, calculate_prediction(xx,theta4),  color='grey', lw=1)"
   ]
  },
  {
   "cell_type": "code",
   "execution_count": 25,
   "metadata": {},
   "outputs": [
    {
     "name": "stdout",
     "output_type": "stream",
     "text": [
      "variance :  0.7792954436008388\n",
      "bias for alpha=0.01 :  0.28521359547607483\n",
      "bias for alpha=0.02 :  0.28521389822831433\n",
      "bias for alpha=0.03 :  0.28521492893173445\n",
      "bias armijo learning rate :  0.2852861921367199\n"
     ]
    }
   ],
   "source": [
    "#variance\n",
    "var = (1/len(calculate_prediction(normalize(trainx), theta1)))*np.sum((calculate_prediction(normalize(trainx), theta1)- np.mean(calculate_prediction(normalize(trainx), theta1)))**2)\n",
    "print(\"variance : \" ,var)\n",
    "\n",
    "\n",
    "# mean squared error\n",
    "mse1 = np.sum((calculate_prediction(normalize(testx), theta1) - normalize(testy))**2)\n",
    "mse2 = np.sum((calculate_prediction(normalize(testx), theta2) - normalize(testy))**2)\n",
    "mse3 = np.sum((calculate_prediction(normalize(testx), theta3) - normalize(testy))**2)\n",
    "mse4 = np.sum((calculate_prediction(normalize(testx), theta4) - normalize(testy))**2)\n",
    "# m is the number of training examples\n",
    "rmse1 = mse1/len(testx)\n",
    "rmse2 = mse2/len(testx)\n",
    "rmse3 = mse3/len(testx)\n",
    "rmse4 = mse4/len(testx)\n",
    "print(\"bias for alpha=0.01 : \", rmse1)\n",
    "print(\"bias for alpha=0.02 : \", rmse2)\n",
    "print(\"bias for alpha=0.03 : \", rmse3)\n",
    "print(\"bias armijo learning rate : \",rmse4)"
   ]
  },
  {
   "cell_type": "code",
   "execution_count": 26,
   "metadata": {},
   "outputs": [
    {
     "name": "stdout",
     "output_type": "stream",
     "text": [
      "la variance 0.00027371722541735095\n"
     ]
    }
   ],
   "source": [
    "h = normalize(trainy) - calculate_prediction(normalize(trainx), theta1)\n",
    "v = h**2\n",
    "print(\"la variance\",np.mean(v)/len(h))"
   ]
  },
  {
   "cell_type": "code",
   "execution_count": 32,
   "metadata": {},
   "outputs": [
    {
     "name": "stdout",
     "output_type": "stream",
     "text": [
      "generalization error for alpha=0.01 :  0.5340539256255634\n",
      "generalization error for alpha=0.02 :  0.5340542090727441\n",
      "generalization error for alpha=0.03 :  0.534055174052021\n",
      "generalization error armijo learning rate :  0.534121888838793\n"
     ]
    }
   ],
   "source": [
    "errgen= np.sum((calculate_prediction(normalize(testx), theta1) -normalize(testy))**2)\n",
    "errgen1= np.sqrt(errgen/len(testx))\n",
    "errgen= np.sum((calculate_prediction(normalize(testx), theta2) -normalize(testy))**2)\n",
    "errgen2= np.sqrt(errgen/len(testx))\n",
    "errgen= np.sum((calculate_prediction(normalize(testx), theta3) -normalize(testy))**2)\n",
    "errgen3= np.sqrt(errgen/len(testx))\n",
    "errgen= np.sum((calculate_prediction(normalize(testx), theta4) -normalize(testy))**2)\n",
    "errgen4= np.sqrt(errgen/len(testx))\n",
    "print(\"generalization error for alpha=0.01 : \", errgen1)\n",
    "print(\"generalization error for alpha=0.02 : \", errgen2)\n",
    "print(\"generalization error for alpha=0.03 : \", errgen3)\n",
    "print(\"generalization error armijo learning rate : \", errgen4)"
   ]
  },
  {
   "cell_type": "code",
   "execution_count": 33,
   "metadata": {},
   "outputs": [],
   "source": [
    "def accuracy(err,y):\n",
    "    return sum(err**2)/sum((y-np.mean(y))**2)"
   ]
  },
  {
   "cell_type": "code",
   "execution_count": 34,
   "metadata": {},
   "outputs": [
    {
     "name": "stdout",
     "output_type": "stream",
     "text": [
      "accuracy for alpha=0.01 :  0.7792954436008401\n",
      "accuracy for alpha=0.02 :  0.7793027579438526\n",
      "accuracy for alpha=0.03 :  0.7793276532666258\n",
      "accuracy armijo learning rate  :  0.7810271806578136\n"
     ]
    }
   ],
   "source": [
    "print(\"accuracy for alpha=0.01 : \",accuracy(calculate_prediction(normalize(trainx), theta1),normalize(trainy)))\n",
    "print(\"accuracy for alpha=0.02 : \",accuracy(calculate_prediction(normalize(trainx), theta2),normalize(trainy)))\n",
    "print(\"accuracy for alpha=0.03 : \",accuracy(calculate_prediction(normalize(trainx), theta3),normalize(trainy)))\n",
    "print(\"accuracy armijo learning rate  : \",accuracy(calculate_prediction(normalize(trainx), theta4),normalize(trainy)))"
   ]
  },
  {
   "cell_type": "code",
   "execution_count": null,
   "metadata": {},
   "outputs": [],
   "source": []
  },
  {
   "cell_type": "code",
   "execution_count": null,
   "metadata": {},
   "outputs": [],
   "source": []
  }
 ],
 "metadata": {
  "celltoolbar": "Format de la Cellule Texte Brut",
  "kernelspec": {
   "display_name": "Python 3",
   "language": "python",
   "name": "python3"
  },
  "language_info": {
   "codemirror_mode": {
    "name": "ipython",
    "version": 3
   },
   "file_extension": ".py",
   "mimetype": "text/x-python",
   "name": "python",
   "nbconvert_exporter": "python",
   "pygments_lexer": "ipython3",
   "version": "3.7.4"
  }
 },
 "nbformat": 4,
 "nbformat_minor": 2
}
